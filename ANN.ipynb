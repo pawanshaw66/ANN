{
  "nbformat": 4,
  "nbformat_minor": 0,
  "metadata": {
    "colab": {
      "provenance": [],
      "mount_file_id": "1-rhG2__gADC6gHcQUx3YCZd_StT4LDPR",
      "authorship_tag": "ABX9TyMpZctgKGSfu+gaKPj07M/7",
      "include_colab_link": true
    },
    "kernelspec": {
      "name": "python3",
      "display_name": "Python 3"
    },
    "language_info": {
      "name": "python"
    },
    "accelerator": "GPU",
    "gpuClass": "standard"
  },
  "cells": [
    {
      "cell_type": "markdown",
      "metadata": {
        "id": "view-in-github",
        "colab_type": "text"
      },
      "source": [
        "<a href=\"https://colab.research.google.com/github/pawanshaw66/ANN/blob/main/ANN.ipynb\" target=\"_parent\"><img src=\"https://colab.research.google.com/assets/colab-badge.svg\" alt=\"Open In Colab\"/></a>"
      ]
    },
    {
      "cell_type": "code",
      "source": [
        "from google.colab import drive\n",
        "drive.mount('/content/drive')\n"
      ],
      "metadata": {
        "colab": {
          "base_uri": "https://localhost:8080/"
        },
        "id": "Kv2jPZEsethO",
        "outputId": "19077e32-d15b-4a30-d015-567b6af57c39"
      },
      "execution_count": null,
      "outputs": [
        {
          "output_type": "stream",
          "name": "stdout",
          "text": [
            "Drive already mounted at /content/drive; to attempt to forcibly remount, call drive.mount(\"/content/drive\", force_remount=True).\n"
          ]
        }
      ]
    },
    {
      "cell_type": "code",
      "source": [
        "!pip install -q keras"
      ],
      "metadata": {
        "id": "_GjV4ZMRjKSr"
      },
      "execution_count": null,
      "outputs": []
    },
    {
      "cell_type": "code",
      "source": [
        "# Data preprocessing\n",
        "# Importing the libraries\n",
        "import numpy as np\n",
        "import pandas as pd\n",
        "import matplotlib.pyplot as plt\n"
      ],
      "metadata": {
        "id": "W6M8QLPRjc5z"
      },
      "execution_count": null,
      "outputs": []
    },
    {
      "cell_type": "code",
      "source": [
        "#importing the datasets\n",
        "dataset = pd.read_csv('/content/drive/MyDrive/dataset/Churn_Modelling.csv')\n",
        "x = dataset.iloc[:,3:13]\n",
        "y = dataset.iloc[:,13]\n"
      ],
      "metadata": {
        "id": "iSFcudyNkJvH"
      },
      "execution_count": null,
      "outputs": []
    },
    {
      "cell_type": "code",
      "source": [
        "# create dummy variables\n",
        "geography = pd.get_dummies(x[\"Geography\"],drop_first=True)\n",
        "gender = pd.get_dummies(x[\"Gender\"],drop_first=True)\n",
        "print(geography)\n",
        "print(gender)\n",
        "x = pd.concat([x,geography,gender],axis=1)\n",
        "print(x)\n"
      ],
      "metadata": {
        "colab": {
          "base_uri": "https://localhost:8080/"
        },
        "id": "_EEtKcHWkOxW",
        "outputId": "701bad5b-8f71-4f1c-d799-195ec792eab8"
      },
      "execution_count": null,
      "outputs": [
        {
          "output_type": "stream",
          "name": "stdout",
          "text": [
            "      Germany  Spain\n",
            "0           0      0\n",
            "1           0      1\n",
            "2           0      0\n",
            "3           0      0\n",
            "4           0      1\n",
            "...       ...    ...\n",
            "9995        0      0\n",
            "9996        0      0\n",
            "9997        0      0\n",
            "9998        1      0\n",
            "9999        0      0\n",
            "\n",
            "[10000 rows x 2 columns]\n",
            "      Male\n",
            "0        0\n",
            "1        0\n",
            "2        0\n",
            "3        0\n",
            "4        0\n",
            "...    ...\n",
            "9995     1\n",
            "9996     1\n",
            "9997     0\n",
            "9998     1\n",
            "9999     0\n",
            "\n",
            "[10000 rows x 1 columns]\n",
            "      CreditScore Geography  Gender  Age  Tenure    Balance  NumOfProducts  \\\n",
            "0             619    France  Female   42       2       0.00              1   \n",
            "1             608     Spain  Female   41       1   83807.86              1   \n",
            "2             502    France  Female   42       8  159660.80              3   \n",
            "3             699    France  Female   39       1       0.00              2   \n",
            "4             850     Spain  Female   43       2  125510.82              1   \n",
            "...           ...       ...     ...  ...     ...        ...            ...   \n",
            "9995          771    France    Male   39       5       0.00              2   \n",
            "9996          516    France    Male   35      10   57369.61              1   \n",
            "9997          709    France  Female   36       7       0.00              1   \n",
            "9998          772   Germany    Male   42       3   75075.31              2   \n",
            "9999          792    France  Female   28       4  130142.79              1   \n",
            "\n",
            "      HasCrCard  IsActiveMember  EstimatedSalary  Germany  Spain  Male  \n",
            "0             1               1        101348.88        0      0     0  \n",
            "1             0               1        112542.58        0      1     0  \n",
            "2             1               0        113931.57        0      0     0  \n",
            "3             0               0         93826.63        0      0     0  \n",
            "4             1               1         79084.10        0      1     0  \n",
            "...         ...             ...              ...      ...    ...   ...  \n",
            "9995          1               0         96270.64        0      0     1  \n",
            "9996          1               1        101699.77        0      0     1  \n",
            "9997          0               1         42085.58        0      0     0  \n",
            "9998          1               0         92888.52        1      0     1  \n",
            "9999          1               0         38190.78        0      0     0  \n",
            "\n",
            "[10000 rows x 13 columns]\n"
          ]
        }
      ]
    },
    {
      "cell_type": "code",
      "source": [
        "x = x.drop(['Geography','Gender'],axis=1)\n",
        "print(x)\n"
      ],
      "metadata": {
        "colab": {
          "base_uri": "https://localhost:8080/"
        },
        "id": "jrhDW96okj-d",
        "outputId": "1f6e9009-7a50-40fc-e7aa-5981a2b2c482"
      },
      "execution_count": null,
      "outputs": [
        {
          "output_type": "stream",
          "name": "stdout",
          "text": [
            "      CreditScore  Age  Tenure    Balance  NumOfProducts  HasCrCard  \\\n",
            "0             619   42       2       0.00              1          1   \n",
            "1             608   41       1   83807.86              1          0   \n",
            "2             502   42       8  159660.80              3          1   \n",
            "3             699   39       1       0.00              2          0   \n",
            "4             850   43       2  125510.82              1          1   \n",
            "...           ...  ...     ...        ...            ...        ...   \n",
            "9995          771   39       5       0.00              2          1   \n",
            "9996          516   35      10   57369.61              1          1   \n",
            "9997          709   36       7       0.00              1          0   \n",
            "9998          772   42       3   75075.31              2          1   \n",
            "9999          792   28       4  130142.79              1          1   \n",
            "\n",
            "      IsActiveMember  EstimatedSalary  Germany  Spain  Male  \n",
            "0                  1        101348.88        0      0     0  \n",
            "1                  1        112542.58        0      1     0  \n",
            "2                  0        113931.57        0      0     0  \n",
            "3                  0         93826.63        0      0     0  \n",
            "4                  1         79084.10        0      1     0  \n",
            "...              ...              ...      ...    ...   ...  \n",
            "9995               0         96270.64        0      0     1  \n",
            "9996               1        101699.77        0      0     1  \n",
            "9997               1         42085.58        0      0     0  \n",
            "9998               0         92888.52        1      0     1  \n",
            "9999               0         38190.78        0      0     0  \n",
            "\n",
            "[10000 rows x 11 columns]\n"
          ]
        }
      ]
    },
    {
      "cell_type": "code",
      "source": [
        "# spliting the dataset into train and test set\n",
        "from sklearn.model_selection import train_test_split\n",
        "x_train,x_test,y_train,y_test = train_test_split(x,y,test_size=0.2,random_state=0)\n"
      ],
      "metadata": {
        "id": "LN6RxAXjkoMg"
      },
      "execution_count": null,
      "outputs": []
    },
    {
      "cell_type": "code",
      "source": [
        "# feature scaling \n",
        "from sklearn.preprocessing import StandardScaler\n",
        "sc = StandardScaler()\n",
        "x_train = sc.fit_transform(x_train)\n",
        "x_test = sc.fit_transform(x_test)\n"
      ],
      "metadata": {
        "id": "MyTJ0cQKksGS"
      },
      "execution_count": null,
      "outputs": []
    },
    {
      "cell_type": "code",
      "source": [
        "# now lets make the ANN\n",
        "import keras\n",
        "from keras.models import Sequential\n",
        "from keras.layers import Dense      # for hidden layers\n",
        "from keras.layers import LeakyReLU,PReLU,ELU\n",
        "from keras.layers import Dropout\n"
      ],
      "metadata": {
        "id": "j2aW0GUUkyI6"
      },
      "execution_count": null,
      "outputs": []
    },
    {
      "cell_type": "code",
      "source": [
        "model = Sequential()\n",
        "\n",
        "model.add(Dense(11,activation='sigmoid',input_dim=11))\n",
        "model.add(Dense(11,activation='sigmoid'))\n",
        "model.add(Dense(1,activation='sigmoid'))"
      ],
      "metadata": {
        "id": "NJncfo6Ek_Km"
      },
      "execution_count": null,
      "outputs": []
    },
    {
      "cell_type": "code",
      "source": [
        "model.summary()"
      ],
      "metadata": {
        "colab": {
          "base_uri": "https://localhost:8080/"
        },
        "id": "FG9chFJJlb3A",
        "outputId": "2f4f1239-4c6c-49f3-fa8a-06b7b81336a8"
      },
      "execution_count": null,
      "outputs": [
        {
          "output_type": "stream",
          "name": "stdout",
          "text": [
            "Model: \"sequential_2\"\n",
            "_________________________________________________________________\n",
            " Layer (type)                Output Shape              Param #   \n",
            "=================================================================\n",
            " dense_4 (Dense)             (None, 11)                132       \n",
            "                                                                 \n",
            " dense_5 (Dense)             (None, 11)                132       \n",
            "                                                                 \n",
            " dense_6 (Dense)             (None, 1)                 12        \n",
            "                                                                 \n",
            "=================================================================\n",
            "Total params: 276\n",
            "Trainable params: 276\n",
            "Non-trainable params: 0\n",
            "_________________________________________________________________\n"
          ]
        }
      ]
    },
    {
      "cell_type": "code",
      "source": [
        "model.compile(optimizer='Adam',loss='binary_crossentropy',metrics=['accuracy'])"
      ],
      "metadata": {
        "id": "HWxAJcBjlfit"
      },
      "execution_count": null,
      "outputs": []
    },
    {
      "cell_type": "code",
      "source": [
        "history = model.fit(x_train,y_train,batch_size=50,epochs=100,verbose=1,validation_split=0.2)"
      ],
      "metadata": {
        "colab": {
          "base_uri": "https://localhost:8080/"
        },
        "id": "2tKLu0j4llu-",
        "outputId": "2016996a-4627-444f-9a15-a8d3d25cb683"
      },
      "execution_count": null,
      "outputs": [
        {
          "output_type": "stream",
          "name": "stdout",
          "text": [
            "Epoch 1/100\n",
            "128/128 [==============================] - 7s 9ms/step - loss: 0.5511 - accuracy: 0.7958 - val_loss: 0.5089 - val_accuracy: 0.7969\n",
            "Epoch 2/100\n",
            "128/128 [==============================] - 1s 7ms/step - loss: 0.5021 - accuracy: 0.7958 - val_loss: 0.4952 - val_accuracy: 0.7969\n",
            "Epoch 3/100\n",
            "128/128 [==============================] - 1s 5ms/step - loss: 0.4916 - accuracy: 0.7958 - val_loss: 0.4854 - val_accuracy: 0.7969\n",
            "Epoch 4/100\n",
            "128/128 [==============================] - 1s 5ms/step - loss: 0.4799 - accuracy: 0.7958 - val_loss: 0.4726 - val_accuracy: 0.7969\n",
            "Epoch 5/100\n",
            "128/128 [==============================] - 1s 6ms/step - loss: 0.4648 - accuracy: 0.7958 - val_loss: 0.4579 - val_accuracy: 0.7969\n",
            "Epoch 6/100\n",
            "128/128 [==============================] - 0s 3ms/step - loss: 0.4494 - accuracy: 0.7958 - val_loss: 0.4449 - val_accuracy: 0.7969\n",
            "Epoch 7/100\n",
            "128/128 [==============================] - 1s 5ms/step - loss: 0.4375 - accuracy: 0.7994 - val_loss: 0.4366 - val_accuracy: 0.8019\n",
            "Epoch 8/100\n",
            "128/128 [==============================] - 1s 5ms/step - loss: 0.4300 - accuracy: 0.8070 - val_loss: 0.4322 - val_accuracy: 0.8144\n",
            "Epoch 9/100\n",
            "128/128 [==============================] - 1s 5ms/step - loss: 0.4257 - accuracy: 0.8119 - val_loss: 0.4298 - val_accuracy: 0.8138\n",
            "Epoch 10/100\n",
            "128/128 [==============================] - 1s 5ms/step - loss: 0.4231 - accuracy: 0.8141 - val_loss: 0.4282 - val_accuracy: 0.8150\n",
            "Epoch 11/100\n",
            "128/128 [==============================] - 0s 3ms/step - loss: 0.4213 - accuracy: 0.8130 - val_loss: 0.4267 - val_accuracy: 0.8119\n",
            "Epoch 12/100\n",
            "128/128 [==============================] - 0s 3ms/step - loss: 0.4198 - accuracy: 0.8163 - val_loss: 0.4251 - val_accuracy: 0.8150\n",
            "Epoch 13/100\n",
            "128/128 [==============================] - 0s 3ms/step - loss: 0.4179 - accuracy: 0.8166 - val_loss: 0.4235 - val_accuracy: 0.8169\n",
            "Epoch 14/100\n",
            "128/128 [==============================] - 0s 3ms/step - loss: 0.4163 - accuracy: 0.8202 - val_loss: 0.4219 - val_accuracy: 0.8181\n",
            "Epoch 15/100\n",
            "128/128 [==============================] - 0s 3ms/step - loss: 0.4144 - accuracy: 0.8223 - val_loss: 0.4201 - val_accuracy: 0.8231\n",
            "Epoch 16/100\n",
            "128/128 [==============================] - 0s 3ms/step - loss: 0.4124 - accuracy: 0.8227 - val_loss: 0.4185 - val_accuracy: 0.8263\n",
            "Epoch 17/100\n",
            "128/128 [==============================] - 0s 3ms/step - loss: 0.4106 - accuracy: 0.8263 - val_loss: 0.4160 - val_accuracy: 0.8275\n",
            "Epoch 18/100\n",
            "128/128 [==============================] - 0s 3ms/step - loss: 0.4084 - accuracy: 0.8267 - val_loss: 0.4141 - val_accuracy: 0.8288\n",
            "Epoch 19/100\n",
            "128/128 [==============================] - 0s 3ms/step - loss: 0.4064 - accuracy: 0.8306 - val_loss: 0.4119 - val_accuracy: 0.8319\n",
            "Epoch 20/100\n",
            "128/128 [==============================] - 0s 3ms/step - loss: 0.4044 - accuracy: 0.8322 - val_loss: 0.4099 - val_accuracy: 0.8325\n",
            "Epoch 21/100\n",
            "128/128 [==============================] - 0s 3ms/step - loss: 0.4022 - accuracy: 0.8356 - val_loss: 0.4078 - val_accuracy: 0.8331\n",
            "Epoch 22/100\n",
            "128/128 [==============================] - 0s 3ms/step - loss: 0.4001 - accuracy: 0.8356 - val_loss: 0.4059 - val_accuracy: 0.8356\n",
            "Epoch 23/100\n",
            "128/128 [==============================] - 0s 3ms/step - loss: 0.3981 - accuracy: 0.8372 - val_loss: 0.4039 - val_accuracy: 0.8325\n",
            "Epoch 24/100\n",
            "128/128 [==============================] - 0s 3ms/step - loss: 0.3958 - accuracy: 0.8389 - val_loss: 0.4023 - val_accuracy: 0.8363\n",
            "Epoch 25/100\n",
            "128/128 [==============================] - 0s 3ms/step - loss: 0.3940 - accuracy: 0.8398 - val_loss: 0.3998 - val_accuracy: 0.8363\n",
            "Epoch 26/100\n",
            "128/128 [==============================] - 0s 3ms/step - loss: 0.3920 - accuracy: 0.8397 - val_loss: 0.3979 - val_accuracy: 0.8350\n",
            "Epoch 27/100\n",
            "128/128 [==============================] - 0s 3ms/step - loss: 0.3898 - accuracy: 0.8406 - val_loss: 0.3961 - val_accuracy: 0.8381\n",
            "Epoch 28/100\n",
            "128/128 [==============================] - 0s 3ms/step - loss: 0.3878 - accuracy: 0.8413 - val_loss: 0.3942 - val_accuracy: 0.8388\n",
            "Epoch 29/100\n",
            "128/128 [==============================] - 0s 3ms/step - loss: 0.3856 - accuracy: 0.8422 - val_loss: 0.3922 - val_accuracy: 0.8394\n",
            "Epoch 30/100\n",
            "128/128 [==============================] - 0s 3ms/step - loss: 0.3837 - accuracy: 0.8434 - val_loss: 0.3909 - val_accuracy: 0.8400\n",
            "Epoch 31/100\n",
            "128/128 [==============================] - 0s 3ms/step - loss: 0.3820 - accuracy: 0.8445 - val_loss: 0.3886 - val_accuracy: 0.8406\n",
            "Epoch 32/100\n",
            "128/128 [==============================] - 0s 3ms/step - loss: 0.3795 - accuracy: 0.8452 - val_loss: 0.3869 - val_accuracy: 0.8419\n",
            "Epoch 33/100\n",
            "128/128 [==============================] - 0s 3ms/step - loss: 0.3779 - accuracy: 0.8441 - val_loss: 0.3848 - val_accuracy: 0.8419\n",
            "Epoch 34/100\n",
            "128/128 [==============================] - 0s 3ms/step - loss: 0.3758 - accuracy: 0.8470 - val_loss: 0.3835 - val_accuracy: 0.8419\n",
            "Epoch 35/100\n",
            "128/128 [==============================] - 0s 3ms/step - loss: 0.3738 - accuracy: 0.8472 - val_loss: 0.3818 - val_accuracy: 0.8438\n",
            "Epoch 36/100\n",
            "128/128 [==============================] - 0s 3ms/step - loss: 0.3723 - accuracy: 0.8484 - val_loss: 0.3800 - val_accuracy: 0.8444\n",
            "Epoch 37/100\n",
            "128/128 [==============================] - 0s 3ms/step - loss: 0.3707 - accuracy: 0.8500 - val_loss: 0.3789 - val_accuracy: 0.8431\n",
            "Epoch 38/100\n",
            "128/128 [==============================] - 0s 3ms/step - loss: 0.3693 - accuracy: 0.8497 - val_loss: 0.3777 - val_accuracy: 0.8450\n",
            "Epoch 39/100\n",
            "128/128 [==============================] - 0s 3ms/step - loss: 0.3675 - accuracy: 0.8503 - val_loss: 0.3759 - val_accuracy: 0.8475\n",
            "Epoch 40/100\n",
            "128/128 [==============================] - 0s 3ms/step - loss: 0.3661 - accuracy: 0.8527 - val_loss: 0.3747 - val_accuracy: 0.8475\n",
            "Epoch 41/100\n",
            "128/128 [==============================] - 0s 3ms/step - loss: 0.3647 - accuracy: 0.8516 - val_loss: 0.3737 - val_accuracy: 0.8462\n",
            "Epoch 42/100\n",
            "128/128 [==============================] - 0s 3ms/step - loss: 0.3638 - accuracy: 0.8525 - val_loss: 0.3725 - val_accuracy: 0.8481\n",
            "Epoch 43/100\n",
            "128/128 [==============================] - 0s 3ms/step - loss: 0.3625 - accuracy: 0.8514 - val_loss: 0.3717 - val_accuracy: 0.8481\n",
            "Epoch 44/100\n",
            "128/128 [==============================] - 0s 3ms/step - loss: 0.3608 - accuracy: 0.8548 - val_loss: 0.3711 - val_accuracy: 0.8494\n",
            "Epoch 45/100\n",
            "128/128 [==============================] - 0s 3ms/step - loss: 0.3603 - accuracy: 0.8542 - val_loss: 0.3696 - val_accuracy: 0.8494\n",
            "Epoch 46/100\n",
            "128/128 [==============================] - 0s 3ms/step - loss: 0.3590 - accuracy: 0.8553 - val_loss: 0.3690 - val_accuracy: 0.8500\n",
            "Epoch 47/100\n",
            "128/128 [==============================] - 0s 3ms/step - loss: 0.3576 - accuracy: 0.8591 - val_loss: 0.3684 - val_accuracy: 0.8531\n",
            "Epoch 48/100\n",
            "128/128 [==============================] - 0s 3ms/step - loss: 0.3570 - accuracy: 0.8550 - val_loss: 0.3671 - val_accuracy: 0.8494\n",
            "Epoch 49/100\n",
            "128/128 [==============================] - 0s 3ms/step - loss: 0.3559 - accuracy: 0.8578 - val_loss: 0.3671 - val_accuracy: 0.8512\n",
            "Epoch 50/100\n",
            "128/128 [==============================] - 0s 3ms/step - loss: 0.3551 - accuracy: 0.8595 - val_loss: 0.3660 - val_accuracy: 0.8544\n",
            "Epoch 51/100\n",
            "128/128 [==============================] - 0s 3ms/step - loss: 0.3544 - accuracy: 0.8594 - val_loss: 0.3650 - val_accuracy: 0.8519\n",
            "Epoch 52/100\n",
            "128/128 [==============================] - 0s 3ms/step - loss: 0.3534 - accuracy: 0.8587 - val_loss: 0.3647 - val_accuracy: 0.8537\n",
            "Epoch 53/100\n",
            "128/128 [==============================] - 0s 3ms/step - loss: 0.3526 - accuracy: 0.8587 - val_loss: 0.3642 - val_accuracy: 0.8531\n",
            "Epoch 54/100\n",
            "128/128 [==============================] - 0s 3ms/step - loss: 0.3520 - accuracy: 0.8581 - val_loss: 0.3631 - val_accuracy: 0.8512\n",
            "Epoch 55/100\n",
            "128/128 [==============================] - 0s 3ms/step - loss: 0.3511 - accuracy: 0.8592 - val_loss: 0.3637 - val_accuracy: 0.8537\n",
            "Epoch 56/100\n",
            "128/128 [==============================] - 0s 3ms/step - loss: 0.3505 - accuracy: 0.8591 - val_loss: 0.3621 - val_accuracy: 0.8506\n",
            "Epoch 57/100\n",
            "128/128 [==============================] - 0s 3ms/step - loss: 0.3493 - accuracy: 0.8605 - val_loss: 0.3634 - val_accuracy: 0.8512\n",
            "Epoch 58/100\n",
            "128/128 [==============================] - 0s 3ms/step - loss: 0.3494 - accuracy: 0.8605 - val_loss: 0.3619 - val_accuracy: 0.8531\n",
            "Epoch 59/100\n",
            "128/128 [==============================] - 0s 3ms/step - loss: 0.3484 - accuracy: 0.8600 - val_loss: 0.3608 - val_accuracy: 0.8544\n",
            "Epoch 60/100\n",
            "128/128 [==============================] - 0s 3ms/step - loss: 0.3477 - accuracy: 0.8597 - val_loss: 0.3606 - val_accuracy: 0.8544\n",
            "Epoch 61/100\n",
            "128/128 [==============================] - 0s 3ms/step - loss: 0.3472 - accuracy: 0.8609 - val_loss: 0.3594 - val_accuracy: 0.8531\n",
            "Epoch 62/100\n",
            "128/128 [==============================] - 0s 3ms/step - loss: 0.3468 - accuracy: 0.8600 - val_loss: 0.3590 - val_accuracy: 0.8525\n",
            "Epoch 63/100\n",
            "128/128 [==============================] - 0s 3ms/step - loss: 0.3462 - accuracy: 0.8603 - val_loss: 0.3585 - val_accuracy: 0.8525\n",
            "Epoch 64/100\n",
            "128/128 [==============================] - 0s 3ms/step - loss: 0.3455 - accuracy: 0.8611 - val_loss: 0.3592 - val_accuracy: 0.8531\n",
            "Epoch 65/100\n",
            "128/128 [==============================] - 0s 3ms/step - loss: 0.3449 - accuracy: 0.8606 - val_loss: 0.3578 - val_accuracy: 0.8531\n",
            "Epoch 66/100\n",
            "128/128 [==============================] - 0s 3ms/step - loss: 0.3443 - accuracy: 0.8612 - val_loss: 0.3586 - val_accuracy: 0.8531\n",
            "Epoch 67/100\n",
            "128/128 [==============================] - 0s 3ms/step - loss: 0.3440 - accuracy: 0.8609 - val_loss: 0.3582 - val_accuracy: 0.8525\n",
            "Epoch 68/100\n",
            "128/128 [==============================] - 0s 3ms/step - loss: 0.3433 - accuracy: 0.8623 - val_loss: 0.3565 - val_accuracy: 0.8537\n",
            "Epoch 69/100\n",
            "128/128 [==============================] - 0s 3ms/step - loss: 0.3433 - accuracy: 0.8606 - val_loss: 0.3560 - val_accuracy: 0.8525\n",
            "Epoch 70/100\n",
            "128/128 [==============================] - 0s 3ms/step - loss: 0.3422 - accuracy: 0.8616 - val_loss: 0.3561 - val_accuracy: 0.8537\n",
            "Epoch 71/100\n",
            "128/128 [==============================] - 0s 3ms/step - loss: 0.3419 - accuracy: 0.8619 - val_loss: 0.3555 - val_accuracy: 0.8525\n",
            "Epoch 72/100\n",
            "128/128 [==============================] - 0s 3ms/step - loss: 0.3414 - accuracy: 0.8611 - val_loss: 0.3562 - val_accuracy: 0.8550\n",
            "Epoch 73/100\n",
            "128/128 [==============================] - 0s 3ms/step - loss: 0.3413 - accuracy: 0.8616 - val_loss: 0.3549 - val_accuracy: 0.8525\n",
            "Epoch 74/100\n",
            "128/128 [==============================] - 0s 3ms/step - loss: 0.3406 - accuracy: 0.8619 - val_loss: 0.3548 - val_accuracy: 0.8537\n",
            "Epoch 75/100\n",
            "128/128 [==============================] - 0s 3ms/step - loss: 0.3405 - accuracy: 0.8619 - val_loss: 0.3554 - val_accuracy: 0.8544\n",
            "Epoch 76/100\n",
            "128/128 [==============================] - 0s 3ms/step - loss: 0.3399 - accuracy: 0.8619 - val_loss: 0.3544 - val_accuracy: 0.8550\n",
            "Epoch 77/100\n",
            "128/128 [==============================] - 0s 3ms/step - loss: 0.3397 - accuracy: 0.8611 - val_loss: 0.3538 - val_accuracy: 0.8556\n",
            "Epoch 78/100\n",
            "128/128 [==============================] - 0s 3ms/step - loss: 0.3392 - accuracy: 0.8620 - val_loss: 0.3535 - val_accuracy: 0.8544\n",
            "Epoch 79/100\n",
            "128/128 [==============================] - 0s 3ms/step - loss: 0.3390 - accuracy: 0.8617 - val_loss: 0.3531 - val_accuracy: 0.8562\n",
            "Epoch 80/100\n",
            "128/128 [==============================] - 0s 3ms/step - loss: 0.3385 - accuracy: 0.8605 - val_loss: 0.3531 - val_accuracy: 0.8562\n",
            "Epoch 81/100\n",
            "128/128 [==============================] - 0s 3ms/step - loss: 0.3379 - accuracy: 0.8625 - val_loss: 0.3530 - val_accuracy: 0.8562\n",
            "Epoch 82/100\n",
            "128/128 [==============================] - 0s 3ms/step - loss: 0.3375 - accuracy: 0.8625 - val_loss: 0.3529 - val_accuracy: 0.8556\n",
            "Epoch 83/100\n",
            "128/128 [==============================] - 0s 3ms/step - loss: 0.3375 - accuracy: 0.8614 - val_loss: 0.3522 - val_accuracy: 0.8569\n",
            "Epoch 84/100\n",
            "128/128 [==============================] - 0s 3ms/step - loss: 0.3372 - accuracy: 0.8633 - val_loss: 0.3522 - val_accuracy: 0.8569\n",
            "Epoch 85/100\n",
            "128/128 [==============================] - 0s 3ms/step - loss: 0.3367 - accuracy: 0.8625 - val_loss: 0.3521 - val_accuracy: 0.8569\n",
            "Epoch 86/100\n",
            "128/128 [==============================] - 0s 3ms/step - loss: 0.3365 - accuracy: 0.8630 - val_loss: 0.3520 - val_accuracy: 0.8562\n",
            "Epoch 87/100\n",
            "128/128 [==============================] - 1s 5ms/step - loss: 0.3362 - accuracy: 0.8637 - val_loss: 0.3513 - val_accuracy: 0.8562\n",
            "Epoch 88/100\n",
            "128/128 [==============================] - 1s 5ms/step - loss: 0.3353 - accuracy: 0.8633 - val_loss: 0.3535 - val_accuracy: 0.8537\n",
            "Epoch 89/100\n",
            "128/128 [==============================] - 1s 5ms/step - loss: 0.3359 - accuracy: 0.8636 - val_loss: 0.3517 - val_accuracy: 0.8587\n",
            "Epoch 90/100\n",
            "128/128 [==============================] - 1s 5ms/step - loss: 0.3352 - accuracy: 0.8634 - val_loss: 0.3524 - val_accuracy: 0.8556\n",
            "Epoch 91/100\n",
            "128/128 [==============================] - 1s 5ms/step - loss: 0.3352 - accuracy: 0.8630 - val_loss: 0.3512 - val_accuracy: 0.8575\n",
            "Epoch 92/100\n",
            "128/128 [==============================] - 0s 3ms/step - loss: 0.3350 - accuracy: 0.8637 - val_loss: 0.3512 - val_accuracy: 0.8569\n",
            "Epoch 93/100\n",
            "128/128 [==============================] - 0s 3ms/step - loss: 0.3346 - accuracy: 0.8637 - val_loss: 0.3523 - val_accuracy: 0.8531\n",
            "Epoch 94/100\n",
            "128/128 [==============================] - 0s 3ms/step - loss: 0.3347 - accuracy: 0.8625 - val_loss: 0.3511 - val_accuracy: 0.8581\n",
            "Epoch 95/100\n",
            "128/128 [==============================] - 0s 3ms/step - loss: 0.3344 - accuracy: 0.8644 - val_loss: 0.3505 - val_accuracy: 0.8575\n",
            "Epoch 96/100\n",
            "128/128 [==============================] - 0s 3ms/step - loss: 0.3341 - accuracy: 0.8639 - val_loss: 0.3505 - val_accuracy: 0.8606\n",
            "Epoch 97/100\n",
            "128/128 [==============================] - 0s 3ms/step - loss: 0.3337 - accuracy: 0.8634 - val_loss: 0.3503 - val_accuracy: 0.8581\n",
            "Epoch 98/100\n",
            "128/128 [==============================] - 0s 3ms/step - loss: 0.3335 - accuracy: 0.8633 - val_loss: 0.3504 - val_accuracy: 0.8569\n",
            "Epoch 99/100\n",
            "128/128 [==============================] - 0s 3ms/step - loss: 0.3335 - accuracy: 0.8639 - val_loss: 0.3500 - val_accuracy: 0.8594\n",
            "Epoch 100/100\n",
            "128/128 [==============================] - 0s 3ms/step - loss: 0.3333 - accuracy: 0.8631 - val_loss: 0.3507 - val_accuracy: 0.8575\n"
          ]
        }
      ]
    },
    {
      "cell_type": "code",
      "source": [
        "y_pred = model.predict(x_test)"
      ],
      "metadata": {
        "id": "RovyWHyolpFR"
      },
      "execution_count": null,
      "outputs": []
    },
    {
      "cell_type": "code",
      "source": [
        "y_pred"
      ],
      "metadata": {
        "colab": {
          "base_uri": "https://localhost:8080/"
        },
        "id": "1FxFpHtul8B5",
        "outputId": "05abd1e1-feb4-42a1-b4e7-4b0c2c7897f9"
      },
      "execution_count": null,
      "outputs": [
        {
          "output_type": "execute_result",
          "data": {
            "text/plain": [
              "array([[0.27727264],\n",
              "       [0.3335963 ],\n",
              "       [0.13897063],\n",
              "       ...,\n",
              "       [0.06628876],\n",
              "       [0.11224195],\n",
              "       [0.20199242]], dtype=float32)"
            ]
          },
          "metadata": {},
          "execution_count": 22
        }
      ]
    },
    {
      "cell_type": "code",
      "source": [
        "y_pred = y_pred.argmax(axis=-1)"
      ],
      "metadata": {
        "id": "VynQKGsvmCUn"
      },
      "execution_count": null,
      "outputs": []
    },
    {
      "cell_type": "code",
      "source": [
        "from sklearn.metrics import accuracy_score\n",
        "accuracy_score(y_test,y_pred)"
      ],
      "metadata": {
        "colab": {
          "base_uri": "https://localhost:8080/"
        },
        "id": "ngvVGnsfmF2M",
        "outputId": "13516739-2030-4cb8-f8f5-17d5a4650ef7"
      },
      "execution_count": null,
      "outputs": [
        {
          "output_type": "execute_result",
          "data": {
            "text/plain": [
              "0.7975"
            ]
          },
          "metadata": {},
          "execution_count": 24
        }
      ]
    },
    {
      "cell_type": "code",
      "source": [
        "plt.plot(history.history['loss'])\n",
        "plt.plot(history.history['val_loss'])"
      ],
      "metadata": {
        "colab": {
          "base_uri": "https://localhost:8080/",
          "height": 282
        },
        "id": "jU4-KVuLmJZH",
        "outputId": "936ba90a-661b-4d24-c302-3e715442c4ef"
      },
      "execution_count": null,
      "outputs": [
        {
          "output_type": "execute_result",
          "data": {
            "text/plain": [
              "[<matplotlib.lines.Line2D at 0x7f78045b3f90>]"
            ]
          },
          "metadata": {},
          "execution_count": 25
        },
        {
          "output_type": "display_data",
          "data": {
            "text/plain": [
              "<Figure size 432x288 with 1 Axes>"
            ],
            "image/png": "[encoded data removed]"
          },
          "metadata": {
            "needs_background": "light"
          }
        }
      ]
    },
    {
      "cell_type": "code",
      "source": [
        "plt.plot(history.history['accuracy'])\n",
        "plt.plot(history.history['val_accuracy'])"
      ],
      "metadata": {
        "id": "CVY-irX4mOd3",
        "outputId": "1ed95a84-1c63-4d90-ff3c-341344ead130",
        "colab": {
          "base_uri": "https://localhost:8080/",
          "height": 282
        }
      },
      "execution_count": null,
      "outputs": [
        {
          "output_type": "execute_result",
          "data": {
            "text/plain": [
              "[<matplotlib.lines.Line2D at 0x7f780460d8d0>]"
            ]
          },
          "metadata": {},
          "execution_count": 26
        },
        {
          "output_type": "display_data",
          "data": {
            "text/plain": [
              "<Figure size 432x288 with 1 Axes>"
            ],
            "image/png": "[encoded data removed]"
          },
          "metadata": {
            "needs_background": "light"
          }
        }
      ]
    },
    {
      "cell_type": "code",
      "source": [],
      "metadata": {
        "id": "ihC99YCmmSyB"
      },
      "execution_count": null,
      "outputs": []
    }
  ]
}